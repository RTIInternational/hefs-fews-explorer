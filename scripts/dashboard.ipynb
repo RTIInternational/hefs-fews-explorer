{
 "cells": [
  {
   "cell_type": "code",
   "execution_count": 1,
   "metadata": {},
   "outputs": [],
   "source": [
    "from pathlib import Path\n",
    "\n",
    "from IPython.display import display\n",
    "from ipywidgets import widgets\n",
    "\n",
    "import logging\n",
    "\n",
    "logger = logging.getLogger()\n",
    "\n",
    "out = widgets.Output()\n",
    "\n",
    "from dashboard_funcs import (\n",
    "    create_start_standalone_command,\n",
    "    write_shell_file,\n",
    "    extract_archive,\n",
    "    s3_download_file,\n",
    "    s3_list_contents,\n",
    "    write_fews_desktop_shortcut\n",
    ")\n",
    "\n",
    "BUCKET_NAME = \"ciroh-rti-hefs-data\"\n",
    "FEWS_BASE_DIR = Path(Path.home(), \"fews\")\n",
    "FEWS_INSTALL_DIR = Path(\"/opt\", \"fews\")\n",
    "\n",
    "FEWS_BASE_DIR.mkdir(exist_ok=True)"
   ]
  },
  {
   "cell_type": "code",
   "execution_count": 2,
   "metadata": {},
   "outputs": [],
   "source": [
    "sa_dropdown = widgets.Dropdown(\n",
    "    options=s3_list_contents(prefix=\"standalone_configurations\"),\n",
    "    description='Standalone:',\n",
    "    disabled=False,\n",
    ")"
   ]
  },
  {
   "cell_type": "code",
   "execution_count": 1,
   "metadata": {},
   "outputs": [],
   "source": [
    "@out.capture(clear_output=True, wait=True)\n",
    "def install_fews_standalone(b) -> None:\n",
    "    \"\"\"Download standalone configuration from S3 to the working directory.\"\"\"\n",
    "    # 1. Download sa from S3\n",
    "    print(\"Downloading standalone tar.gz file...\")\n",
    "    sa_parent_dir = Path(FEWS_BASE_DIR, Path(sa_dropdown.value).parent)\n",
    "    sa_filepath = Path(FEWS_BASE_DIR, sa_dropdown.value)\n",
    "    sa_parent_dir.mkdir(exist_ok=True, parents=True)\n",
    "    s3_download_file(sa_dropdown.value, sa_filepath)\n",
    "    print(\"Download complete.\")\n",
    "    print(\"Extracting standalone configuration...\")\n",
    "    # 2. Extract standalone configuration\n",
    "    extract_archive(sa_filepath, sa_parent_dir)\n",
    "    # 3. Create the bash command to run the standalone\n",
    "    sa_dir_path = list(sa_parent_dir.glob(\"*\"))[0]  # TODO: Hacky?\n",
    "    bash_command_str = create_start_standalone_command(\n",
    "        FEWS_INSTALL_DIR.as_posix(),\n",
    "        sa_dir_path\n",
    "    )\n",
    "    # 4. Write the command to start FEWS to a shell script\n",
    "    shell_script_filepath = Path(sa_dir_path, \"start_fews_standalone.sh\")\n",
    "    write_shell_file(shell_script_filepath, bash_command_str)\n",
    "    # 5. Copy in patch file for the downloaded standalone config.\n",
    "    print(\"Downloading patch file...\")\n",
    "    s3_download_file(\n",
    "        \"fews-install/fews-NA-202102-125264-patch.jar\",\n",
    "        Path(sa_dir_path, \"fews-NA-202102-125264-patch.jar\")\n",
    "    )\n",
    "    # 6. Create FEWS desktop shortcut that calls the shell script\n",
    "    desktop_shortcut_filepath = Path(Path.home(), \"Desktop\", f\"{sa_dir_path.name}.desktop\")\n",
    "    print(f\"Creating FEWS desktop shortcut...{desktop_shortcut_filepath}\")\n",
    "    write_fews_desktop_shortcut(desktop_shortcut_filepath, shell_script_filepath)\n",
    "    print(\"Installation complete.\")\n",
    "    return"
   ]
  },
  {
   "cell_type": "code",
   "execution_count": null,
   "metadata": {},
   "outputs": [],
   "source": [
    "config_button = widgets.Button(description='Configure Standalone')\n",
    "config_button.on_click(install_fews_standalone)"
   ]
  },
  {
   "cell_type": "markdown",
   "metadata": {},
   "source": [
    "![CIROH Logo](CIROHLogo_200x200.png)"
   ]
  },
  {
   "cell_type": "markdown",
   "metadata": {},
   "source": [
    "## Welcome to the HEFS-FEWS TEEHR-Hub Dashboard!"
   ]
  },
  {
   "cell_type": "markdown",
   "metadata": {},
   "source": [
    "This experimental dashboards allows you to download and install pre-existing FEWS stand-alone configurations from the ciroh-rti-hefs-data S3 bucket, and a desktop shortcut to open FEWS."
   ]
  },
  {
   "cell_type": "markdown",
   "metadata": {},
   "source": [
    "#### Configure FEWS for your region of interest"
   ]
  },
  {
   "cell_type": "code",
   "execution_count": null,
   "metadata": {},
   "outputs": [],
   "source": [
    "display(sa_dropdown)"
   ]
  },
  {
   "cell_type": "code",
   "execution_count": null,
   "metadata": {},
   "outputs": [],
   "source": [
    "display(config_button)"
   ]
  },
  {
   "cell_type": "code",
   "execution_count": null,
   "metadata": {},
   "outputs": [],
   "source": [
    "display(out)"
   ]
  },
  {
   "cell_type": "code",
   "execution_count": null,
   "metadata": {},
   "outputs": [],
   "source": [
    "# with out:\n",
    "#     install_fews_standalone()"
   ]
  }
 ],
 "metadata": {
  "kernelspec": {
   "display_name": "hefs-fews-hub-X_YN1yCF-py3.10",
   "language": "python",
   "name": "python3"
  },
  "language_info": {
   "codemirror_mode": {
    "name": "ipython",
    "version": 3
   },
   "file_extension": ".py",
   "mimetype": "text/x-python",
   "name": "python",
   "nbconvert_exporter": "python",
   "pygments_lexer": "ipython3",
   "version": "3.10.12"
  }
 },
 "nbformat": 4,
 "nbformat_minor": 2
}
