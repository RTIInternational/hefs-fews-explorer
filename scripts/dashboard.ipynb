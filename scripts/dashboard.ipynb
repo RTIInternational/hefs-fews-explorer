{
 "cells": [
  {
   "cell_type": "code",
   "execution_count": 1,
   "metadata": {},
   "outputs": [],
   "source": [
    "from pathlib import Path\n",
    "from typing import List\n",
    "\n",
    "from IPython.display import display\n",
    "from ipywidgets import widgets\n",
    "\n",
    "import logging\n",
    "\n",
    "logger = logging.getLogger()\n",
    "\n",
    "out = widgets.Output()\n",
    "\n",
    "from dashboard_funcs import (\n",
    "    create_start_standalone_command,\n",
    "    write_shell_file,\n",
    "    s3_download_file,\n",
    "    write_fews_desktop_shortcut,\n",
    "    s3_download_directory\n",
    ")\n",
    "\n",
    "BUCKET_NAME = \"ciroh-rti-hefs-data\"\n",
    "\n",
    "FEWS_INSTALL_DIR = Path(\"/opt\", \"fews\")\n",
    "\n"
   ]
  },
  {
   "cell_type": "code",
   "execution_count": 2,
   "metadata": {},
   "outputs": [],
   "source": [
    "# List the unique RFCs in the s3 bucket.\n",
    "unique_rfcs = [\n",
    "    \"ABRFC\",\n",
    "    \"APRFC\",\n",
    "    \"CBRFC\",\n",
    "    \"CNRFC\",\n",
    "    \"LMRFC\",\n",
    "    \"MARFC\",\n",
    "    \"MBRFC\",\n",
    "    \"NCRFC\",\n",
    "    \"NERFC\",\n",
    "    \"NWRFC\",\n",
    "    \"OHRFC\",\n",
    "    \"SERFC\",\n",
    "    \"WGRFC\"\n",
    "]"
   ]
  },
  {
   "cell_type": "code",
   "execution_count": 3,
   "metadata": {},
   "outputs": [],
   "source": [
    "rfc_dropdown = widgets.Dropdown(\n",
    "    options=unique_rfcs,\n",
    "    description='RFC:',\n",
    "    disabled=False,\n",
    "    value=\"MARFC\",\n",
    ")"
   ]
  },
  {
   "cell_type": "code",
   "execution_count": 4,
   "metadata": {},
   "outputs": [],
   "source": [
    "style = {'description_width': 'initial'}\n",
    "download_dir_textbox = widgets.Text(\n",
    "    value='/opt/data',\n",
    "    placeholder='Type something',\n",
    "    description='Download Directory:',\n",
    "    disabled=False,\n",
    "    style=style\n",
    ")"
   ]
  },
  {
   "cell_type": "code",
   "execution_count": 5,
   "metadata": {},
   "outputs": [],
   "source": [
    "@out.capture(clear_output=True, wait=True)\n",
    "def install_fews_standalone(b) -> None:\n",
    "    \"\"\"Download standalone configuration from S3 to the working directory.\"\"\"\n",
    "    # print(download_dir_textbox.value)\n",
    "    fews_download_dir = Path(download_dir_textbox.value)\n",
    "    if not fews_download_dir.exists():\n",
    "        print(f\"The directory: {fews_download_dir}, does not exist. Please create it first!\")\n",
    "        raise ValueError(f\"The directory: {fews_download_dir}, does not exist. Please create it first!\")\n",
    "\n",
    "    # 1. Download sa from S3\n",
    "    print(f\"Downloading RFC configuration to {fews_download_dir.as_posix()}...This will take a few minutes...\")\n",
    "    s3_download_directory(\n",
    "        prefix=f\"{rfc_dropdown.value}/Config\",\n",
    "        local=fews_download_dir\n",
    "    )\n",
    "    # 2. Create the bash command to run the standalone configuration\n",
    "    sa_dir_path = Path(fews_download_dir, rfc_dropdown.value)\n",
    "    bash_command_str = create_start_standalone_command(\n",
    "        fews_root_dir=FEWS_INSTALL_DIR.as_posix(),\n",
    "        configuration_dir=sa_dir_path.as_posix()\n",
    "    )\n",
    "    # 3. Write the command to start FEWS to a shell script\n",
    "    shell_script_filepath = Path(sa_dir_path, \"start_fews_standalone.sh\")\n",
    "    write_shell_file(shell_script_filepath, bash_command_str)\n",
    "    # 4. Copy in patch file for the downloaded standalone config.\n",
    "    print(\"Downloading patch file...\")\n",
    "    s3_download_file(\n",
    "        remote_filepath=\"fews-install/fews-NA-202102-125264-patch.jar\",\n",
    "        local_filepath=Path(sa_dir_path, \"fews-NA-202102-125264-patch.jar\")\n",
    "    )\n",
    "    # 5. Create FEWS desktop shortcut that calls the shell script\n",
    "    desktop_shortcut_filepath = Path(Path.home(), \"Desktop\", f\"{sa_dir_path.name}.desktop\")\n",
    "    print(f\"Creating FEWS desktop shortcut...{desktop_shortcut_filepath}\")\n",
    "    write_fews_desktop_shortcut(desktop_shortcut_filepath, shell_script_filepath)\n",
    "    print(\"Installation complete.\")\n",
    "    return"
   ]
  },
  {
   "cell_type": "code",
   "execution_count": 6,
   "metadata": {},
   "outputs": [],
   "source": [
    "@out.capture(clear_output=True, wait=True)\n",
    "def download_historical_data(b) -> None:\n",
    "    \"\"\"Download historical data for selected RFC.\"\"\"\n",
    "    # print(download_dir_textbox.value)\n",
    "    fews_download_dir = Path(download_dir_textbox.value)\n",
    "    if not fews_download_dir.exists():\n",
    "        print(f\"The directory: {fews_download_dir}, does not exist. Please create it first!\")\n",
    "        raise ValueError(f\"The directory: {fews_download_dir}, does not exist. Please create it first!\")\n",
    "\n",
    "    print(f\"Downloading historical data to {fews_download_dir.as_posix()}...\")\n",
    "    s3_download_directory(\n",
    "        prefix=f\"{rfc_dropdown.value}/historicalData\",\n",
    "        local=fews_download_dir\n",
    "    )\n",
    "    local_path = Path(fews_download_dir, rfc_dropdown.value, \"historicalData\")\n",
    "    local_path.rename(Path(fews_download_dir, rfc_dropdown.value, \"cardfiles\"))\n",
    "    pass"
   ]
  },
  {
   "cell_type": "code",
   "execution_count": 7,
   "metadata": {},
   "outputs": [],
   "source": [
    "data_button = widgets.Button(description='Download Data')\n",
    "data_button.on_click(download_historical_data)"
   ]
  },
  {
   "cell_type": "code",
   "execution_count": 8,
   "metadata": {},
   "outputs": [],
   "source": [
    "config_button = widgets.Button(description='Download Config')\n",
    "config_button.on_click(install_fews_standalone)"
   ]
  },
  {
   "cell_type": "markdown",
   "metadata": {},
   "source": [
    "![CIROH Logo](CIROHLogo_200x200.png)"
   ]
  },
  {
   "cell_type": "markdown",
   "metadata": {},
   "source": [
    "## Welcome to the HEFS-FEWS TEEHR-Hub Dashboard!"
   ]
  },
  {
   "cell_type": "markdown",
   "metadata": {},
   "source": [
    "### This experimental dashboards allows you to download and install pre-existing FEWS stand-alone configurations from the ciroh-rti-hefs-data S3 bucket, and a desktop shortcut to open FEWS."
   ]
  },
  {
   "cell_type": "markdown",
   "metadata": {},
   "source": [
    "Configure FEWS for your region of interest:"
   ]
  },
  {
   "cell_type": "code",
   "execution_count": 9,
   "metadata": {},
   "outputs": [
    {
     "data": {
      "application/vnd.jupyter.widget-view+json": {
       "model_id": "d7362ad100f3495aa8f822a5fd075e38",
       "version_major": 2,
       "version_minor": 0
      },
      "text/plain": [
       "Dropdown(description='RFC:', index=5, options=('ABRFC', 'APRFC', 'CBRFC', 'CNRFC', 'LMRFC', 'MARFC', 'MBRFC', …"
      ]
     },
     "metadata": {},
     "output_type": "display_data"
    }
   ],
   "source": [
    "display(rfc_dropdown)"
   ]
  },
  {
   "cell_type": "code",
   "execution_count": 10,
   "metadata": {},
   "outputs": [
    {
     "data": {
      "application/vnd.jupyter.widget-view+json": {
       "model_id": "3b9ef83e0fee4007813bfcd7b1fbdfab",
       "version_major": 2,
       "version_minor": 0
      },
      "text/plain": [
       "Text(value='/opt/data', description='Download Directory:', placeholder='Type something', style=TextStyle(descr…"
      ]
     },
     "metadata": {},
     "output_type": "display_data"
    }
   ],
   "source": [
    "display(download_dir_textbox)"
   ]
  },
  {
   "cell_type": "code",
   "execution_count": 11,
   "metadata": {},
   "outputs": [
    {
     "data": {
      "application/vnd.jupyter.widget-view+json": {
       "model_id": "fbcf1bc4253a4b0e9375dcf08f55ebc8",
       "version_major": 2,
       "version_minor": 0
      },
      "text/plain": [
       "Button(description='Download Config', style=ButtonStyle())"
      ]
     },
     "metadata": {},
     "output_type": "display_data"
    }
   ],
   "source": [
    "display(config_button)"
   ]
  },
  {
   "cell_type": "code",
   "execution_count": 12,
   "metadata": {},
   "outputs": [
    {
     "data": {
      "application/vnd.jupyter.widget-view+json": {
       "model_id": "d53d8b889aff4e358fe11aec110bcce2",
       "version_major": 2,
       "version_minor": 0
      },
      "text/plain": [
       "Button(description='Download Data', style=ButtonStyle())"
      ]
     },
     "metadata": {},
     "output_type": "display_data"
    }
   ],
   "source": [
    "display(data_button)"
   ]
  },
  {
   "cell_type": "code",
   "execution_count": 13,
   "metadata": {},
   "outputs": [
    {
     "data": {
      "application/vnd.jupyter.widget-view+json": {
       "model_id": "01737b7607714bb391422741688ee193",
       "version_major": 2,
       "version_minor": 0
      },
      "text/plain": [
       "Output()"
      ]
     },
     "metadata": {},
     "output_type": "display_data"
    }
   ],
   "source": [
    "display(out)"
   ]
  }
 ],
 "metadata": {
  "kernelspec": {
   "display_name": ".venv",
   "language": "python",
   "name": "python3"
  },
  "language_info": {
   "codemirror_mode": {
    "name": "ipython",
    "version": 3
   },
   "file_extension": ".py",
   "mimetype": "text/x-python",
   "name": "python",
   "nbconvert_exporter": "python",
   "pygments_lexer": "ipython3",
   "version": "3.10.12"
  }
 },
 "nbformat": 4,
 "nbformat_minor": 2
}
