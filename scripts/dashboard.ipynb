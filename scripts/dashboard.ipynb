{
 "cells": [
  {
   "cell_type": "code",
   "execution_count": 9,
   "metadata": {},
   "outputs": [],
   "source": [
    "from pathlib import Path\n",
    "from typing import List\n",
    "\n",
    "from IPython.display import display\n",
    "from ipywidgets import widgets\n",
    "\n",
    "import logging\n",
    "\n",
    "logger = logging.getLogger()\n",
    "\n",
    "out = widgets.Output()\n",
    "\n",
    "from dashboard_funcs import (\n",
    "    create_start_standalone_command,\n",
    "    write_shell_file,\n",
    "    extract_archive,\n",
    "    s3_download_file,\n",
    "    s3_list_contents,\n",
    "    write_fews_desktop_shortcut\n",
    ")\n",
    "\n",
    "BUCKET_NAME = \"ciroh-rti-hefs-data\"\n",
    "FEWS_BASE_DIR = Path(Path.home(), \"fews\")\n",
    "FEWS_INSTALL_DIR = Path(\"/opt\", \"fews\")\n",
    "\n",
    "FEWS_BASE_DIR.mkdir(exist_ok=True)\n",
    "\n",
    "S3_ROOT_DIR = \"standalone_configurations\""
   ]
  },
  {
   "cell_type": "code",
   "execution_count": null,
   "metadata": {},
   "outputs": [],
   "source": [
    "# List the unique RFCs in the s3 bucket.\n",
    "s3_filelist = s3_list_contents(prefix=S3_ROOT_DIR)\n",
    "unique_rfcs = list(set([Path(filepath).parts[1] for filepath in s3_filelist]))"
   ]
  },
  {
   "cell_type": "code",
   "execution_count": 10,
   "metadata": {},
   "outputs": [],
   "source": [
    "rfc_dropdown = widgets.Dropdown(\n",
    "    options=unique_rfcs,\n",
    "    description='RFC:',\n",
    "    disabled=False,\n",
    "    value=\"ABRFC\",\n",
    ")"
   ]
  },
  {
   "cell_type": "code",
   "execution_count": 11,
   "metadata": {},
   "outputs": [],
   "source": [
    "def get_rfc_s3_filename(value: str) -> List:\n",
    "    \"\"\"Get the list of standalone configuration files for the selected RFC.\"\"\"\n",
    "    rfc_s3_filelist = s3_list_contents(prefix=f\"{S3_ROOT_DIR}/{rfc_dropdown.value}\")\n",
    "    rfc_s3_filenames = [Path(filepath).name for filepath in rfc_s3_filelist]\n",
    "    return rfc_s3_filenames\n"
   ]
  },
  {
   "cell_type": "code",
   "execution_count": 12,
   "metadata": {},
   "outputs": [],
   "source": [
    "sa_dropdown = widgets.Dropdown(\n",
    "    options=get_rfc_s3_filename(rfc_dropdown.value),\n",
    "    description='Standalone:',\n",
    "    disabled=False,\n",
    ")"
   ]
  },
  {
   "cell_type": "code",
   "execution_count": 13,
   "metadata": {},
   "outputs": [],
   "source": [
    "def update_sa_dropdown(*args):\n",
    "    # Get the SA's for the selected RFC.\n",
    "    rfc_s3_filelist = s3_list_contents(prefix=f\"{S3_ROOT_DIR}/{rfc_dropdown.value}\")\n",
    "    rfc_s3_filenames = [Path(filepath).name for filepath in rfc_s3_filelist]\n",
    "    sa_dropdown.options = rfc_s3_filenames"
   ]
  },
  {
   "cell_type": "code",
   "execution_count": 14,
   "metadata": {},
   "outputs": [],
   "source": [
    "rfc_dropdown.observe(update_sa_dropdown, \"value\")"
   ]
  },
  {
   "cell_type": "code",
   "execution_count": 15,
   "metadata": {},
   "outputs": [],
   "source": [
    "@out.capture(clear_output=True, wait=True)\n",
    "def install_fews_standalone(b) -> None:\n",
    "    \"\"\"Download standalone configuration from S3 to the working directory.\"\"\"\n",
    "    # 1. Download sa from S3\n",
    "    print(\"Downloading standalone tar.gz file...\")\n",
    "    selected_sa_s3_filepath = f\"{S3_ROOT_DIR}/{rfc_dropdown.value}/{sa_dropdown.value}\"\n",
    "    local_sa_parent_dir = Path(FEWS_BASE_DIR, S3_ROOT_DIR, Path(selected_sa_s3_filepath).stem)\n",
    "    local_sa_filepath = Path(local_sa_parent_dir, sa_dropdown.value)\n",
    "    local_sa_parent_dir.mkdir(exist_ok=True, parents=True)\n",
    "    s3_download_file(\n",
    "        remote_filepath=selected_sa_s3_filepath,\n",
    "        local_filepath=local_sa_filepath\n",
    "    )\n",
    "    print(\"Download complete.\")\n",
    "    print(\"Extracting standalone configuration...\")\n",
    "    # 2. Extract standalone configuration\n",
    "    extract_archive(local_sa_filepath, local_sa_parent_dir)\n",
    "    # 3. Create the bash command to run the standalone\n",
    "    sa_dir_path = list(local_sa_parent_dir.glob(\"*\"))[0]  # TODO: Hacky?\n",
    "    bash_command_str = create_start_standalone_command(\n",
    "        FEWS_INSTALL_DIR.as_posix(),\n",
    "        sa_dir_path\n",
    "    )\n",
    "    # 4. Write the command to start FEWS to a shell script\n",
    "    shell_script_filepath = Path(sa_dir_path, \"start_fews_standalone.sh\")\n",
    "    write_shell_file(shell_script_filepath, bash_command_str)\n",
    "    # 5. Copy in patch file for the downloaded standalone config.\n",
    "    print(\"Downloading patch file...\")\n",
    "    s3_download_file(\n",
    "        \"fews-install/fews-NA-202102-125264-patch.jar\",\n",
    "        Path(sa_dir_path, \"fews-NA-202102-125264-patch.jar\")\n",
    "    )\n",
    "    # 6. Create FEWS desktop shortcut that calls the shell script\n",
    "    desktop_shortcut_filepath = Path(Path.home(), \"Desktop\", f\"{sa_dir_path.name}.desktop\")\n",
    "    print(f\"Creating FEWS desktop shortcut...{desktop_shortcut_filepath}\")\n",
    "    write_fews_desktop_shortcut(desktop_shortcut_filepath, shell_script_filepath)\n",
    "    print(\"Installation complete.\")\n",
    "    return"
   ]
  },
  {
   "cell_type": "code",
   "execution_count": 16,
   "metadata": {},
   "outputs": [],
   "source": [
    "config_button = widgets.Button(description='Configure Standalone')\n",
    "config_button.on_click(install_fews_standalone)"
   ]
  },
  {
   "cell_type": "markdown",
   "metadata": {},
   "source": [
    "![CIROH Logo](CIROHLogo_200x200.png)"
   ]
  },
  {
   "cell_type": "markdown",
   "metadata": {},
   "source": [
    "## Welcome to the HEFS-FEWS TEEHR-Hub Dashboard!"
   ]
  },
  {
   "cell_type": "markdown",
   "metadata": {},
   "source": [
    "This experimental dashboards allows you to download and install pre-existing FEWS stand-alone configurations from the ciroh-rti-hefs-data S3 bucket, and a desktop shortcut to open FEWS."
   ]
  },
  {
   "cell_type": "markdown",
   "metadata": {},
   "source": [
    "Configure FEWS for your region of interest:"
   ]
  },
  {
   "cell_type": "code",
   "execution_count": null,
   "metadata": {},
   "outputs": [],
   "source": [
    "display(rfc_dropdown)"
   ]
  },
  {
   "cell_type": "code",
   "execution_count": null,
   "metadata": {},
   "outputs": [],
   "source": [
    "display(sa_dropdown)"
   ]
  },
  {
   "cell_type": "code",
   "execution_count": null,
   "metadata": {},
   "outputs": [],
   "source": [
    "display(config_button)"
   ]
  },
  {
   "cell_type": "code",
   "execution_count": null,
   "metadata": {},
   "outputs": [],
   "source": [
    "display(out)"
   ]
  },
  {
   "cell_type": "code",
   "execution_count": null,
   "metadata": {},
   "outputs": [],
   "source": []
  }
 ],
 "metadata": {
  "kernelspec": {
   "display_name": "hefs-fews-hub-X_YN1yCF-py3.10",
   "language": "python",
   "name": "python3"
  },
  "language_info": {
   "codemirror_mode": {
    "name": "ipython",
    "version": 3
   },
   "file_extension": ".py",
   "mimetype": "text/x-python",
   "name": "python",
   "nbconvert_exporter": "python",
   "pygments_lexer": "ipython3",
   "version": "3.10.12"
  }
 },
 "nbformat": 4,
 "nbformat_minor": 2
}
